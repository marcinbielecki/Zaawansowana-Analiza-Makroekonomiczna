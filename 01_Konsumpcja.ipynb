{
 "cells": [
  {
   "cell_type": "markdown",
   "metadata": {},
   "source": [
    "# Konsumpcja: wybór międzyokresowy i cykl życia gospodarstw domowych"
   ]
  },
  {
   "cell_type": "code",
   "execution_count": null,
   "metadata": {},
   "outputs": [],
   "source": [
    "# Spraw, aby wykresy pojawiały się bezpośrednio w notatniku\n",
    "%matplotlib inline\n",
    "\n",
    "# Import biblioteki do obliczeń numerycznych\n",
    "import numpy as np\n",
    "\n",
    "# Import biblioteki do tworzenia wykresów\n",
    "import matplotlib.pyplot as plt\n",
    "\n",
    "# Import funkcji z pliku WykresyMakro.py\n",
    "from WykresyMakro import *"
   ]
  },
  {
   "cell_type": "markdown",
   "metadata": {},
   "source": [
    "## Wybór międzyokresowy konsumenta\n",
    "\n",
    "Zanim przejdziemy do bardziej złożonych modeli, zamodelujmy wybory takiego konsumenta, którego życie jest podzielone na dwa okresy.\n",
    "\n",
    "Aby łatwiej było zbudować intuicję, wyobraźmy sobie, że pierwszy okres odpowiada czasowi, gdy konsument jest młody i pracuje, natomiast drugi okres to czas, gdy konsument jest już stary i przebywa na emeryturze.\n",
    "\n",
    "Przyjmę konkretną postać funkcji użyteczności: funkcję logarytmiczną. Powód tego wyboru jest prosty - funkcja logarytmiczna ma bardzo łatwą pochodną:\n",
    "\n",
    "\\begin{align*}\n",
    "\\frac{\\partial \\ln x}{\\partial x} = \\frac{1}{x}\n",
    "\\end{align*}\n",
    "\n",
    "co znacznie uprości nasze obliczenia."
   ]
  },
  {
   "cell_type": "markdown",
   "metadata": {},
   "source": [
    "### Problem maksymalizacji użyteczności\n",
    "\n",
    "Naszym celem jest skonstruowanie problemu optymalizacyjnego, którego rozwiązanie będzie dobrze przybliżało decyzje podejmowane przez rzeczywistych ludzi.\n",
    "\n",
    "Wyobraźmy sobie, że nasz konsument otrzymuje dochód $y_{1}$ w pierwszym okresie oraz dochód $y_{2}$ w drugim okresie.\n",
    "\n",
    "Ponadto konsument może albo zaoszczędzić część dochodu z pierwszego okresu, albo pożyczyć środki na poczet dochodu z okresu drugiego. Dla uproszczenia przyjmujemy, że realna stopa procentowa dla oszczędzania i pożyczania jest taka sama i oznaczona symbolem $r$.\n",
    "\n",
    "Konsument jest również niecierpliwy w tym sensie, że woli konsumować dziś niż w przyszłości (choć nie chce głodować w przyszłości!). Cecha ta jest uchwycona poprzez założenie, że przyszłe wyniki są dyskontowane czynnikiem dyskonta $0<\\beta<1$.\n",
    "\n",
    "Formalnie, zapisujemy problem maksymalizacji, ograniczony budżetem konsumenta:\n",
    "\n",
    "\\begin{align*}\n",
    "\\max_{c_{1}, \\, c_{2}} \\quad & U=\\ln c_{1}+\\beta\\ln c_{2} \\\\\n",
    "\\text{pod warunkiem} \\quad & c_{1}+\\frac{c_{2}}{1+r}\\leq y_{1}+\\frac{y_{2}}{1+r}\n",
    "\\end{align*}\n",
    "\n",
    "Ograniczenie to oznacza, że bieżąca zdyskontowana wartość konsumpcji w całym cyklu życia nie może przekraczać zdyskontowanej wartości dochodów w całym cyklu życia.\n",
    "\n",
    "Najpierw narysujmy zbiór budżetowy: zbiór wszystkich możliwych kombinacji konsumpcji dostępnych przy danych zasobach, czyli dochodach w okresach $1$ i $2$."
   ]
  },
  {
   "cell_type": "markdown",
   "metadata": {},
   "source": [
    "Na wykresie poniżej punkt $(y_{1}, y_{2})$ oznacza początkowy \"zasób\" dochodów konsumenta.\n",
    "\n",
    "Dzięki możliwości oszczędzania lub zaciągania pożyczek konsument może w pierwszym okresie maksymalnie wybrać konsumpcję w wysokości $y_{1}+y_{2}/(1+r)$ (i konsumować 0 w drugim okresie) albo zaoszczędzić cały dochód z pierwszego okresu i skonsumować $(1+r)\\cdot y_{1}+y_{2}$ w drugim okresie (i konsumować 0 w pierwszym okresie).\n",
    "\n",
    "Wszystkie trzy wspomniane punkty leżą na tej samej linii budżetowej. Zbiór budżetowy zawiera również punkty, w których bieżąca zdyskontowana wartość konsumpcji jest mniejsza niż zdyskontowana wartość dochodu, ale w tym kontekście wybór dowolnego punktu, który nie leży na linii budżetowej, nie byłby optymalny."
   ]
  },
  {
   "cell_type": "code",
   "execution_count": null,
   "metadata": {},
   "outputs": [],
   "source": [
    "y_1 = 2\n",
    "y_2 = 1\n",
    "r = 0.05\n",
    "β = 0.95\n",
    "\n",
    "PlotBudgetSet(y_1, y_2, r, full_labels=True)\n",
    "plt.title(\"Międzyokresowe ograniczenie budżetowe\")\n",
    "plt.show()"
   ]
  },
  {
   "cell_type": "markdown",
   "metadata": {},
   "source": [
    "Wykres poniżej przedstawia tzw. mapę obojętności, czyli zbiór krzywych obojętności, odpowiadających alokacjom (koszykom konsumpcyjnym), pomiędzy którymi konsument jest obojętny. \n",
    "\n",
    "Krzywe obojętności położone bardziej na północny wschód oznaczają wyższe poziomy użyteczności."
   ]
  },
  {
   "cell_type": "code",
   "execution_count": null,
   "metadata": {},
   "outputs": [],
   "source": [
    "PlotIndifferenceCurves(y_1, y_2, β, r, levels=[0, 0.5, 1, 1.5], full_labels=True)\n",
    "plt.title(\"Krzywe obojętności\")\n",
    "plt.show()"
   ]
  },
  {
   "cell_type": "markdown",
   "metadata": {},
   "source": [
    "Wykres poniżej przedstawia zbiór budżetowy oraz dwie krzywe obojętności. Zielona krzywa obojętności jest niedostępna: w zbiorze budżetowym nie ma punktów, które by na niej leżały. Pomarańczowa krzywa obojętności jest dostępna: w zbiorze budżetowym znajdują się punkty leżące na tej krzywej, jednak nie jest ona optymalna, ponieważ można znaleźć punkty w zbiorze budżetowym, które leżą na północny wschód od pomarańczowej krzywej obojętności.\n",
    "\n",
    "Graficznie, wybór optymalny polega na znalezieniu takiego punktu ze zbioru budżetowego, który leży na najwyższej możliwej krzywej obojętności, przy czym krzywa ta jest styczna do linii budżetowej.\n",
    "\n",
    "Możesz spróbować znaleźć (przybliżone) rozwiązanie graficzne, dodając liczbę do listy `levels=[0.5, 1]` w kodzie poniżej."
   ]
  },
  {
   "cell_type": "code",
   "execution_count": null,
   "metadata": {},
   "outputs": [],
   "source": [
    "# This will make both plots appear in the same figure\n",
    "fig, ax = plt.subplots(figsize=(5, 5))\n",
    "\n",
    "PlotBudgetSet(y_1, y_2, r, fig_ax=(fig, ax))\n",
    "PlotIndifferenceCurves(y_1, y_2, β, levels=[0.5, 1], fig_ax=(fig, ax))\n",
    "\n",
    "plt.show()"
   ]
  },
  {
   "cell_type": "markdown",
   "metadata": {},
   "source": [
    "Kod poniżej rozwiązuje problem maksymalizacji użyteczności konsumenta i wyświetla wyniki.\n",
    "\n",
    "Jeśli chcesz, możesz zmienić parametry problemu – na przykład, aby zobaczyć, kiedy konsument jest oszczędzającym, a kiedy pożyczkobiorcą (choć pamiętaj, że przy nietypowych parametrach możesz otrzymać równie nietypowe wyniki)."
   ]
  },
  {
   "cell_type": "code",
   "execution_count": null,
   "metadata": {},
   "outputs": [],
   "source": [
    "y_1 = 2\n",
    "y_2 = 1\n",
    "r = 0.05\n",
    "β = 0.95\n",
    "\n",
    "SolveUtilityMaximizationProblem(y_1, y_2, β, r)\n",
    "plt.title(\"Wybór konsumenta\")\n",
    "plt.show()"
   ]
  },
  {
   "cell_type": "markdown",
   "metadata": {},
   "source": [
    "Na podstawie rozwiązania problemu zdefiniujmy zasób aktywów (który może być ujemny), jaki agent posiada na koniec okresu $1$. W tym problemie zasób aktywów jest dany jako różnica między dochodem a konsumpcją w pierwszym okresie:\n",
    "\n",
    "\\begin{align*}\n",
    "a\\equiv y_{1}-c_{1}=y_{1}-\\frac{1}{1+\\beta}\\left[y_{1}+\\frac{y_{2}}{1+r}\\right]=\\frac{\\beta}{1+\\beta}y_{1}-\\frac{1}{1+\\beta}\\frac{y_{2}}{1+r}\n",
    "\\end{align*}\n",
    "\n",
    "Jeśli $a>0$, agent jest oszczędzającym ($c_{1}<y_{1}$), a jeśli $a<0$, agent jest pożyczkobiorcą ($c_{1}>y_{1}$).\n",
    "W przypadku, gdy $a=0$, agent nie jest ani oszczędzającym, ani pożyczkobiorcą i po prostu konsumuje swoje początkowe zasoby: ($c_{1}=y_{1}$ oraz $c_{2}=y_{2}$).\n",
    "\n",
    "Poniżej możesz zobaczyć przykład dla przypadku $a=0$."
   ]
  },
  {
   "cell_type": "code",
   "execution_count": null,
   "metadata": {},
   "outputs": [],
   "source": [
    "y_1 = 1\n",
    "y_2 = 1\n",
    "r = 0.05\n",
    "β = 1/(1+r)\n",
    "\n",
    "SolveUtilityMaximizationProblem(y_1, y_2, β, r)\n",
    "plt.title(\"Wybór konsumenta\")\n",
    "plt.show()"
   ]
  },
  {
   "cell_type": "markdown",
   "metadata": {},
   "source": [
    "### Statyka porównawcza\n",
    "\n",
    "Przeprowadźmy teraz kilka ćwiczeń ze statyki porównawczej, aby lepiej zrozumieć czynniki wpływające na wybory dotyczące konsumpcji i oszczędności.\n",
    "\n",
    "#### Zmiany w $r$\n",
    "\n",
    "Wzrost stopy procentowej generuje dwa efekty: efekt substytucyjny i efekt dochodowy.\n",
    "\n",
    "Efekt substytucyjny powstaje w wyniku zmiany relatywnych cen konsumpcji w pierwszym i drugim okresie. Skłania on konsumenta do większej konsumpcji w drugim okresie i mniejszej w pierwszym.\n",
    "\n",
    "Efekt dochodowy powstaje w wyniku zmiany bieżącej wartości dochodu spowodowanej zmianą stopy procentowej. Znak efektu zależy od tego, czy konsument jest oszczędzającym, czy pożyczkobiorcą. Wzrost stóp procentowych tworzy pozytywny efekt dochodowy dla oszczędzającego, zwiększając jego konsumpcję w obu okresach. Dla pożyczkobiorcy wzrost stóp procentowych powoduje negatywny efekt dochodowy, zmniejszając konsumpcję w obu okresach.\n",
    "\n",
    "Dla oszczędzającego, jeśli efekt dochodowy jest silniejszy (słabszy) niż efekt substytucyjny, konsumpcja w pierwszym okresie wzrośnie (spadnie), a oszczędności spadną (wzrosną).\n",
    "\n",
    "Dla pożyczkobiorcy, jeśli efekt dochodowy jest silniejszy (słabszy) niż efekt substytucyjny, konsumpcja w drugim okresie spadnie (wzrośnie).\n",
    "\n",
    "Na poniższych rysunkach oznaczono punkt początkowego zasobu oznaczono, pierwotny optymalny wybór dla starej stopy procentowej i optymalny wybór dla nowej stopy procentowej. Dodatkowy punkt reprezentuje czysty efekt substytucyjny, czyli to, co byłoby optymalnym wyborem konsumenta przy nowych cenach, gdyby jego użyteczność pozostała niezmieniona."
   ]
  },
  {
   "cell_type": "code",
   "execution_count": null,
   "metadata": {},
   "outputs": [],
   "source": [
    "y_1 = 2.5\n",
    "y_2 = 1\n",
    "β = 0.95\n",
    "r = 0.05\n",
    "r_new = 1\n",
    "\n",
    "ShowIncomeAndSubstitutionEffects(y_1, y_2, β, r, r_new)\n",
    "plt.title(\"Konsument oszczędza\")\n",
    "plt.show()"
   ]
  },
  {
   "cell_type": "code",
   "execution_count": null,
   "metadata": {},
   "outputs": [],
   "source": [
    "y_1 = 0.5\n",
    "y_2 = 3.1\n",
    "β = 0.95\n",
    "r = 0.05\n",
    "r_new = 1\n",
    "\n",
    "ShowIncomeAndSubstitutionEffects(y_1, y_2, β, r, r_new)\n",
    "plt.title(\"Konsument się zapożycza\")\n",
    "plt.show()"
   ]
  },
  {
   "cell_type": "markdown",
   "metadata": {},
   "source": [
    "Względna siła obu efektów zależy od kształtu krzywych obojętności. W przypadku logarytmicznej funkcji użyteczności reakcje na zmiany stopy procentowej są takie same, niezależnie od tego, czy agent jest pożyczkobiorcą, czy oszczędzającym:\n",
    "\n",
    "\\begin{align*}\n",
    "\\frac{\\partial a}{\\partial r} & =-\\frac{1}{1+\\beta}\\left[-\\frac{y_{2}}{\\left(1+r\\right)^{2}}\\right]=\\frac{1}{1+\\beta}\\frac{y_{2}}{\\left(1+r\\right)^{2}}>0\\\\\n",
    "\\frac{\\partial c_{1}}{\\partial r} & =\\frac{1}{1+\\beta}\\left[-\\frac{y_{2}}{\\left(1+r\\right)^{2}}\\right]=-\\frac{1}{1+\\beta}\\frac{y_{2}}{\\left(1+r\\right)^{2}}<0\\\\\n",
    "\\frac{\\partial c_{2}}{\\partial r} & =\\frac{\\beta}{1+\\beta}y_{1}>0\n",
    "\\end{align*}\n",
    "\n",
    "W odpowiedzi na wzrost stopy procentowej, konsumpcja w drugim okresie wzrasta (o ile $y_{1}>0$), oszczędności rosną, natomiast konsumpcja w pierwszym okresie spada (o ile $y_{2}>0$). Jednoznacznie negatywna zależność między poziomem stóp procentowych a konsumpcją pojawia się w podstawowych, \"licencjackich\" modelach makroekonomicznych, takich jak IS-LM czy AS-AD.\n",
    "\n",
    "Przypadek funkcji użyteczności logarytmicznej i $y_{2}=0$ jest bardzo szczególny: konsumpcja w pierwszym okresie oraz oszczędności pozostają stałe, natomiast konsumpcja w drugim okresie rośnie w odpowiedzi na wzrost stopy procentowej. Efekty dochodowy i substytucyjny mają dokładnie taką samą siłę i znoszą się wzajemnie. Zestaw tych założeń wykorzystamy, gdy będziemy omawiać podstawowy model nakładających się pokoleń."
   ]
  },
  {
   "cell_type": "markdown",
   "metadata": {},
   "source": [
    "Figures below illustrate the dependence of the relative strength of the substitution and income effects on the specific utility function. \n",
    "\n",
    "The consumer's utility function is assumed to be the Constant Relative Risk Aversion (CRRA) function, which is commonly used in economic growth and financial literature. Parameter $\\sigma>0$ regulates the risk aversion of the consumer (the higher $\\sigma$ is, the more risk averse is the consumer):\n",
    "\n",
    "\\begin{align}\n",
    "U=\\frac{c_{1}^{1-\\sigma}-1}{1-\\sigma}+\\beta\\frac{c_{2}^{1-\\sigma}-1}{1-\\sigma}\n",
    "\\end{align}\n",
    "\n",
    "For $\\sigma=1$, the CRRA utility function reduces to the logarithmic function."
   ]
  },
  {
   "cell_type": "markdown",
   "metadata": {},
   "source": [
    "Poniższe rysunki ilustrują zależność względnej siły efektów substytucyjnego i dochodowego dla innej klasy funkcji użyteczności.\n",
    "\n",
    "Wykresy poniżej zostały wygenerowane dla funkcji użyteczności o tzw. stałej względnej awersji do ryzyka (CRRA, ang. Constant Relative Risk Aversion), która jest powszechnie stosowana w literaturze makroekonomicznej i makrofinansowej. Parametr $\\sigma>0$ reguluje awersję konsumenta do ryzyka (im wyższe $\\sigma$, tym wyższą awersją do ryzyka cechuje się konsument i mocniej chce wygładzać konsumpcję w czasie):\n",
    "\n",
    "\\begin{align*}\n",
    "U=\\frac{c_{1}^{1-\\sigma}-1}{1-\\sigma}+\\beta\\frac{c_{2}^{1-\\sigma}-1}{1-\\sigma}\n",
    "\\end{align*}\n",
    "\n",
    "Dla $\\sigma=1$ funkcja użyteczności CRRA sprowadza się do funkcji logarytmicznej (aby to udowodnić, należy skorzystać z reguły de l'Hospitala)."
   ]
  },
  {
   "cell_type": "markdown",
   "metadata": {},
   "source": [
    "### Wariant dla $y_2 = 0$"
   ]
  },
  {
   "cell_type": "code",
   "execution_count": null,
   "metadata": {},
   "outputs": [],
   "source": [
    "y_1 = 1\n",
    "y_2 = 0\n",
    "β = 0.95\n",
    "\n",
    "σ_vec = [0.5, 1, 2]\n",
    "r_vec = np.linspace(0, 0.5, 6)\n",
    "\n",
    "for σ in σ_vec:\n",
    "    fig, ax = plt.subplots()\n",
    "    for r in r_vec:\n",
    "        SolveUtilityMaximizationProblemCRRA(y_1, y_2, β, σ, r, (fig, ax))\n",
    "    plt.title('Optymalny wybór przy różnych $r$ dla σ =  {:.1f}'.format(σ))\n",
    "    plt.xlabel('Konsumpcja w okresie 1')\n",
    "    plt.ylabel('Konsumpcja w okresie 2')\n",
    "    plt.show()\n",
    "    print('')"
   ]
  },
  {
   "cell_type": "markdown",
   "metadata": {},
   "source": [
    "### Wariant dla $y_2 < y_1$"
   ]
  },
  {
   "cell_type": "code",
   "execution_count": null,
   "metadata": {},
   "outputs": [],
   "source": [
    "y_1 = 2\n",
    "y_2 = 1\n",
    "β = 0.95\n",
    "\n",
    "σ_vec = [1, 2, 2.5, 3]\n",
    "r_vec = np.linspace(0, 0.5, 6)\n",
    "\n",
    "for σ in σ_vec:\n",
    "    fig, ax = plt.subplots()\n",
    "    for r in r_vec:\n",
    "        SolveUtilityMaximizationProblemCRRA(y_1, y_2, β, σ, r, (fig, ax))\n",
    "    plt.title('Optymalny wybór przy różnych $r$ dla σ =  {:.1f}'.format(σ))\n",
    "    plt.xlabel('Konsumpcja w okresie 1')\n",
    "    plt.ylabel('Konsumpcja w okresie 2')\n",
    "    plt.show()\n",
    "    print('')"
   ]
  },
  {
   "cell_type": "markdown",
   "metadata": {},
   "source": [
    "### Wariant dla $y_2 > y_1$"
   ]
  },
  {
   "cell_type": "code",
   "execution_count": null,
   "metadata": {},
   "outputs": [],
   "source": [
    "y_1 = 1\n",
    "y_2 = 2\n",
    "β = 0.95\n",
    "\n",
    "σ_vec = [1, 3, 3.5, 4]\n",
    "r_vec = np.linspace(0, 0.5, 6)\n",
    "\n",
    "for σ in σ_vec:\n",
    "    fig, ax = plt.subplots()\n",
    "    for r in r_vec:\n",
    "        SolveUtilityMaximizationProblemCRRA(y_1, y_2, β, σ, r, (fig, ax))\n",
    "    plt.title('Optymalny wybór przy różnych $r$ dla σ =  {:.1f}'.format(σ))\n",
    "    plt.xlabel('Konsumpcja w okresie 1')\n",
    "    plt.ylabel('Konsumpcja w okresie 2')\n",
    "    plt.show()\n",
    "    print('')"
   ]
  },
  {
   "cell_type": "markdown",
   "metadata": {},
   "source": [
    "### Modele cyklu życia\n",
    "\n",
    "Przejdziemy teraz do rozwiązywania modeli, w których ludzie żyją przez dowolnie wiele okresów. Założymy, że ludzie przeciętnie wchodzą w okres aktywności zawodowej w wieku około 20 lat (`0` w naszych `kodach python`) i żyją maksymalnie 100 lat (umierają na pewno w dniu swoich 101 urodzin, `T=80+1`). Będą oni także narażeni na ryzyko śmierci zależne od wieku. Załóżmy również, że przechodzą na emeryturę w wieku ok. 65 lat (`TR=45`).\n",
    "\n",
    "Dla uproszczenia przyjmujemy, że wszyscy ludzie w wieku produkcyjnym dostarczają 1 jednostkę pracy, a emeryci nie otrzymują żadnych emerytur. Ponadto założymy dla uproszczenia, że zarówno płace, jak i stopa procentowa są stałe w czasie.\n",
    "\n",
    "Problem najmłodszego gospodarstwa domowego można zatem zapisać w następujący sposób:\n",
    "\n",
    "\\begin{align}\n",
    "\\max\\quad & U=\\sum_{t=0}^{T}\\beta^{t}\\frac{N_{t}}{N_{0}}\\cdot\\ln c_{t}\\\\\n",
    "\\text{pod warunkami}\\quad & c_{t}+a_{t}=w+\\left(1+r\\right)a_{t-1} &\\text{dla wszystkich }t\\leq TR\\\\\n",
    " & c_{t}+a_{t}=\\left(1+r\\right)a_{t-1} &\\text{dla wszystkich }t> TR\\\\\n",
    " & a_{-1} = a_{T} = 0\n",
    "\\end{align}\n",
    "\n",
    "gdzie $N_{t}/N_{0}$ oznacza prawdopodobieństwo przeżycia co najmniej $t$ lat od wieku pojawienia się w modelu.\n",
    "\n",
    "Problem można rozwiązać przy użyciu funkcji Lagrange’a. Poniżej przedstawiam ostateczne rozwiązanie (dla logarytmicznej funkcji użyteczności):\n",
    "\n",
    "\\begin{align}\n",
    "lti & =\\sum_{t=0}^{TR}\\frac{w}{\\left(1+r\\right)^{t}}\\\\\n",
    "disc & =\\sum_{t=0}^{T}\\left(\\beta^{t}\\frac{N_{t}}{N_{0}}\\right)\\\\\n",
    "c_{0} & =\\frac{lti}{disc}\\\\\n",
    "c_{t+1} & =\\beta\\frac{N_{t+1}}{N_{t}}\\left(1+r\\right)c_{t}\n",
    "\\end{align}\n",
    "\n",
    "gdzie $lti$ to zdyskontowana wartość bieżąca całkowitego dochodu w cyklu życia, a $disc$ to suma efektywnych czynników dyskontowych z perspektywy wieku $t=0$. Jak widać, ostatnie równanie jest równaniem Eulera, zmodyfikowanym o ryzyko śmierci.\n",
    "\n",
    "Na koniec narysujmy profile cyklu życia dla konsumpcji, dochodu z pracy oraz zasobu aktywów."
   ]
  },
  {
   "cell_type": "code",
   "execution_count": null,
   "metadata": {},
   "outputs": [],
   "source": [
    "T       = 80+1\n",
    "TR      = 45\n",
    "\n",
    "β       = 0.96\n",
    "\n",
    "w       = 1\n",
    "r       = 0.05\n",
    "\n",
    "mort    = np.zeros(T)\n",
    "N       = np.zeros(T)\n",
    "\n",
    "for t in range(T):\n",
    "    mort[t] = min(np.exp(-6.7374 + 0.0345*t + 0.0011*t**2 - 8e-06*t**3), 1-1e-2)\n",
    "\n",
    "N[0] = 1\n",
    "for t in range(T-1):\n",
    "    N[t+1] = (1-mort[t])*N[t]\n",
    "    \n",
    "plt.plot(np.arange(20, 100+1), 100*N, lw=2)\n",
    "plt.title('Prawdopodobieństwo przeżycia dla 20-latka (%)')\n",
    "plt.xlabel('Wiek')\n",
    "plt.show()\n",
    "\n",
    "lti = 0\n",
    "for t in range(TR):\n",
    "    lti += w/(1+r)**t\n",
    "\n",
    "disc = 0\n",
    "for t in range(T):\n",
    "    disc += N[t]*β**t"
   ]
  },
  {
   "cell_type": "code",
   "execution_count": null,
   "metadata": {},
   "outputs": [],
   "source": [
    "c = np.zeros(T)\n",
    "h = np.zeros(T)\n",
    "a = np.zeros(T+1)\n",
    "\n",
    "h[:TR] = 1\n",
    "\n",
    "c[0] = lti/disc\n",
    "a[0] = 0                # a_{-1}\n",
    "\n",
    "for t in range(T-1):\n",
    "    c[t+1] = β * N[t+1]/N[t] * (1+r) * c[t]\n",
    "\n",
    "for t in range(T):\n",
    "    a[t+1] = w*h[t] + (1+r)*a[t] - c[t]\n",
    "\n",
    "plt.plot(np.arange(20, 100+1), c, lw=2)\n",
    "plt.title('Konsumpcja w cyklu życia')\n",
    "plt.xlabel('Wiek')\n",
    "plt.show()\n",
    "\n",
    "plt.plot(np.arange(20, 100+1), w*h, lw=2)\n",
    "plt.ylim(0, 1.2)\n",
    "plt.title('Dochód z pracy w cyklu życia')\n",
    "plt.xlabel('Wiek')\n",
    "plt.show()\n",
    "\n",
    "plt.plot(np.arange(20, 100+1), a[1:], lw=2)\n",
    "plt.title('Aktywa (na koniec okresu) w cyklu życia')\n",
    "plt.xlabel('Wiek')\n",
    "plt.show()\n",
    "\n",
    "print('Aktywa na koniec życia =', a[T])"
   ]
  },
  {
   "cell_type": "markdown",
   "metadata": {},
   "source": [
    "### Cykl zycia gospodarstwa domowego w USA\n",
    "\n",
    "Dane z Survey of Consumer Finances i Consumer Expenditure Survey za 1989-2016 (uśrednione)"
   ]
  },
  {
   "cell_type": "code",
   "execution_count": null,
   "metadata": {},
   "outputs": [],
   "source": [
    "import pandas as pd\n",
    "\n",
    "dta = pd.read_excel('Dane/SCF.xlsx', index_col=0)\n",
    "dta"
   ]
  },
  {
   "cell_type": "code",
   "execution_count": null,
   "metadata": {},
   "outputs": [],
   "source": [
    "age_init = 20\n",
    "\n",
    "mort_dt = pd.read_excel('Dane/SCF.xlsx', sheet_name='Mort', index_col=0)\n",
    "mort_dt_m = mort_dt.mean()\n",
    "mort = mort_dt_m[age_init:].values"
   ]
  },
  {
   "cell_type": "code",
   "execution_count": null,
   "metadata": {},
   "outputs": [],
   "source": [
    "cex = pd.read_excel('Dane/CEX.xlsx', index_col=0)\n",
    "cex = cex['1989':'2016']\n",
    "cex_d = cex.mean()"
   ]
  },
  {
   "cell_type": "code",
   "execution_count": null,
   "metadata": {},
   "outputs": [],
   "source": [
    "T = 100-age_init+1\n",
    "\n",
    "N = np.zeros(len(mort))\n",
    "\n",
    "N[0] = 1\n",
    "for t in range(T-1):\n",
    "    N[t+1] = (1-mort[t])*N[t]\n",
    "    \n",
    "plt.plot(np.arange(age_init, 100+1), 100*N, lw=2)\n",
    "plt.title('Prawdopodobieństwo przeżycia od '+ str(age_init) + ' roku życia (%)')\n",
    "plt.xlim(age_init, None)\n",
    "plt.xlabel('Wiek')\n",
    "plt.show()"
   ]
  },
  {
   "cell_type": "code",
   "execution_count": null,
   "metadata": {},
   "outputs": [],
   "source": [
    "(dta['Income']/1e3).plot(lw=2, label='Dochody z pracy')\n",
    "(dta['Transfers']/1e3).plot(lw=2, label='Transfery', color='C3')\n",
    "(dta['Income']/1e3 + dta['Transfers']/1e3).plot(lw=2, label='Łącznie', color='C4')\n",
    "plt.bar(np.arange(20, 90, 10), cex_d.values/1e3, width=10, color='C2', alpha=0.5, label='Konsumpcja (CES)')\n",
    "plt.title('Dochody z pracy, transfery i konsumpcja (w tys. USD)')\n",
    "plt.xlim(age_init, None)\n",
    "plt.xlabel('Wiek')\n",
    "plt.ylim(0, None)\n",
    "plt.legend()\n",
    "plt.show()\n",
    "\n",
    "(dta['NetWealth']/1e3).plot(lw=2)\n",
    "plt.title('Aktywa (w tys. USD)')\n",
    "plt.xlim(age_init, None)\n",
    "plt.xlabel('Wiek')\n",
    "plt.ylim(0, None)\n",
    "plt.show()\n",
    "\n",
    "dta['OECDEqScale'].plot(lw=2)\n",
    "plt.title('Rozmiar rodziny w tzw. jednostkach ekwiwalencji')\n",
    "plt.xlim(age_init, None)\n",
    "plt.xlabel('Wiek')\n",
    "plt.show()"
   ]
  },
  {
   "cell_type": "code",
   "execution_count": null,
   "metadata": {},
   "outputs": [],
   "source": [
    "def extrapolate_last_two(df):\n",
    "    df_filled = df.copy()\n",
    "    for col in df.columns:\n",
    "        # Get last two non-NaN rows\n",
    "        last_two = df[col].dropna().iloc[-2:]\n",
    "        x = last_two.index.values\n",
    "        y = last_two.values\n",
    "        \n",
    "        # Compute slope and intercept\n",
    "        slope = (y[1] - y[0]) / (x[1] - x[0])\n",
    "        intercept = y[1] - slope * x[1]\n",
    "        \n",
    "        # Find NaN indices and fill them\n",
    "        nan_idx = df[col][df[col].isna()].index\n",
    "        df_filled.loc[nan_idx, col] = slope * nan_idx + intercept\n",
    "    return df_filled\n",
    "\n",
    "dta_ext = dta.reindex(np.arange(18, 101))\n",
    "dta_ext = extrapolate_last_two(dta_ext)\n",
    "dta_ext['Income'] = dta_ext['Income'].clip(lower=0)\n",
    "dta_ext = dta_ext.loc[age_init:]\n",
    "# dta_ext"
   ]
  },
  {
   "cell_type": "code",
   "execution_count": null,
   "metadata": {},
   "outputs": [],
   "source": [
    "r = 0.05\n",
    "β = 1\n",
    "\n",
    "# Dobre dopasowanie profilu aktywów\n",
    "σ = 2\n",
    "\n",
    "# # Dobre dopasowanie profilu konsumpcji\n",
    "# σ = 5\n",
    "\n",
    "T = 100-age_init+1\n",
    "\n",
    "c = np.zeros(T)\n",
    "a = np.zeros(T+1)\n",
    "\n",
    "\n",
    "y = (dta_ext['Income'] + dta_ext['Transfers']).values\n",
    "scale = dta_ext['OECDEqScale'].values\n",
    "\n",
    "try:\n",
    "    a[0] = dta['NetWealth'].loc[age_init-1]     # a[-1]\n",
    "except:\n",
    "    a[0] = dta['NetWealth'].iloc[0] / (1+r)\n",
    "\n",
    "lti = (1+r)*a[0]\n",
    "for t in range(T):\n",
    "    lti += y[t] / (1+r)**t\n",
    "\n",
    "disc = 0\n",
    "for t in range(T):\n",
    "    disc += (N[t]*β**t)**(1/σ) * ((1+r)**t)**(1/σ-1) * (scale[t]/scale[0])**((σ-1)/σ)\n",
    "\n",
    "c[0] = lti/disc\n",
    "\n",
    "for t in range(T-1):\n",
    "    c[t+1] = (β*N[t+1]/N[t]*(1+r))**(1/σ) * c[t] * (scale[t+1]/scale[t])**((σ-1)/σ)\n",
    "\n",
    "for t in range(T):\n",
    "    a[t+1] = y[t] + (1+r)*a[t] - c[t]\n",
    "\n",
    "print('Aktywa na koniec życia =', a[T])"
   ]
  },
  {
   "cell_type": "code",
   "execution_count": null,
   "metadata": {},
   "outputs": [],
   "source": [
    "(dta['NetWealth'].loc[age_init-1:]/1e3).plot(lw=2, label='Dane')\n",
    "plt.plot(range(age_init-1, age_init+T), a/1e3, lw=2, label='Model')\n",
    "plt.title('Aktywa (w tys. USD)')\n",
    "plt.xlim(age_init-1, None)\n",
    "plt.xlabel('Wiek')\n",
    "plt.legend()\n",
    "plt.show()\n",
    "\n",
    "plt.plot(range(age_init, age_init+T), c/1e3, lw=2, label='Model')\n",
    "plt.title('Konsumpcja (w tys. USD)')\n",
    "plt.xlim(age_init, None)\n",
    "plt.xlabel('Wiek')\n",
    "plt.show()"
   ]
  },
  {
   "cell_type": "code",
   "execution_count": null,
   "metadata": {},
   "outputs": [],
   "source": [
    "cex_m = cex_d.copy()\n",
    "\n",
    "# try:\n",
    "#     cex_m['< 25'] = c[:25-age_init].mean()\n",
    "# except:\n",
    "    \n",
    "cex_m['< 25'] = np.nan\n",
    "\n",
    "cex_m['25-34'] = c[25-age_init:35-age_init].mean()\n",
    "cex_m['35-44'] = c[35-age_init:45-age_init].mean()\n",
    "cex_m['45-54'] = c[45-age_init:55-age_init].mean()\n",
    "cex_m['55-64'] = c[55-age_init:65-age_init].mean()\n",
    "cex_m['65-74'] = c[65-age_init:75-age_init].mean()\n",
    "\n",
    "# cex_m['> 74']   = c[75-age_init:85-age_init].mean()      # Powinno się tu zastosować wagi populacyjne\n",
    "cex_m['> 74']   = np.nan\n",
    "\n",
    "(100*cex_d.div(cex_d['25-34'])).plot(style='o-', lw=2, label='Dane')\n",
    "(100*cex_m.div(cex_m['25-34'])).plot(style='o-', lw=2, label='Model')\n",
    "plt.title('Konsumpcja (25-34 = 100)')\n",
    "plt.legend()\n",
    "plt.show()"
   ]
  },
  {
   "cell_type": "code",
   "execution_count": null,
   "metadata": {},
   "outputs": [],
   "source": []
  }
 ],
 "metadata": {
  "kernelspec": {
   "display_name": "Python 3 (ipykernel)",
   "language": "python",
   "name": "python3"
  },
  "language_info": {
   "codemirror_mode": {
    "name": "ipython",
    "version": 3
   },
   "file_extension": ".py",
   "mimetype": "text/x-python",
   "name": "python",
   "nbconvert_exporter": "python",
   "pygments_lexer": "ipython3",
   "version": "3.13.5"
  }
 },
 "nbformat": 4,
 "nbformat_minor": 4
}
